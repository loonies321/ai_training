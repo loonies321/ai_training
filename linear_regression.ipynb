{
  "nbformat": 4,
  "nbformat_minor": 0,
  "metadata": {
    "colab": {
      "provenance": [],
      "authorship_tag": "ABX9TyMvxLfgUGYf+mQLIgHfqxZf",
      "include_colab_link": true
    },
    "kernelspec": {
      "name": "python3",
      "display_name": "Python 3"
    },
    "language_info": {
      "name": "python"
    }
  },
  "cells": [
    {
      "cell_type": "markdown",
      "metadata": {
        "id": "view-in-github",
        "colab_type": "text"
      },
      "source": [
        "<a href=\"https://colab.research.google.com/github/loonies321/ai_training/blob/main/linear_regression.ipynb\" target=\"_parent\"><img src=\"https://colab.research.google.com/assets/colab-badge.svg\" alt=\"Open In Colab\"/></a>"
      ]
    },
    {
      "cell_type": "code",
      "execution_count": 2,
      "metadata": {
        "id": "gB9YcIOOHUgO"
      },
      "outputs": [],
      "source": [
        "class MyLineReg():\n",
        "    def __init__(self, n_iter, learning_rate, weights=None):\n",
        "        '''\n",
        "        '''\n",
        "        self.n_iter = n_iter\n",
        "        self.learning_rate = learning_rate\n",
        "        self.weights = weights\n",
        "        #print(f\"MyLineReg class: n_iter={self.n_iter}, learning_rate={self.learning_rate}\")\n",
        "\n",
        "    def __str__(self):\n",
        "        '''\n",
        "        '''\n",
        "\n",
        "        return f\"MyLineReg class: n_iter={self.n_iter}, learning_rate={self.learning_rate}\"\n",
        "\n",
        "    def fit(self, X, y, verbose=False):\n",
        "        '''\n",
        "        '''\n",
        "        print(X.shape)\n",
        "        X.insert(0, \"ones\", 1,)\n",
        "        w = np.ones(X.shape[0])\n",
        "        print(type(X), type(y), X.shape())\n",
        "        for i in range(self.n_iter):\n",
        "            y_pred = X.mul(w, axis=1)\n",
        "\n"
      ]
    },
    {
      "cell_type": "code",
      "source": [
        "import numpy as np\n",
        "np.ones(10)"
      ],
      "metadata": {
        "colab": {
          "base_uri": "https://localhost:8080/"
        },
        "id": "TiztExAnNg2m",
        "outputId": "e37e365a-f1f5-4b40-b2e8-c4e1c2b35b3a"
      },
      "execution_count": 3,
      "outputs": [
        {
          "output_type": "execute_result",
          "data": {
            "text/plain": [
              "array([1., 1., 1., 1., 1., 1., 1., 1., 1., 1.])"
            ]
          },
          "metadata": {},
          "execution_count": 3
        }
      ]
    },
    {
      "cell_type": "code",
      "source": [],
      "metadata": {
        "id": "eYuQgCJ-Sqq5"
      },
      "execution_count": null,
      "outputs": []
    }
  ]
}