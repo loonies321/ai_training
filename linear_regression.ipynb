{
  "nbformat": 4,
  "nbformat_minor": 0,
  "metadata": {
    "colab": {
      "provenance": [],
      "authorship_tag": "ABX9TyO/kdKoiFgdBQUVEeNLpEhw",
      "include_colab_link": true
    },
    "kernelspec": {
      "name": "python3",
      "display_name": "Python 3"
    },
    "language_info": {
      "name": "python"
    }
  },
  "cells": [
    {
      "cell_type": "markdown",
      "metadata": {
        "id": "view-in-github",
        "colab_type": "text"
      },
      "source": [
        "<a href=\"https://colab.research.google.com/github/loonies321/ai_training/blob/main/linear_regression.ipynb\" target=\"_parent\"><img src=\"https://colab.research.google.com/assets/colab-badge.svg\" alt=\"Open In Colab\"/></a>"
      ]
    },
    {
      "cell_type": "code",
      "execution_count": null,
      "metadata": {
        "id": "gB9YcIOOHUgO"
      },
      "outputs": [],
      "source": [
        "lass MyLineReg():\n",
        "    def __init__(self, n_iter, learning_rate):\n",
        "        self.n_iter = n_iter\n",
        "        self.learning_rate = learning_rate\n",
        "        #print(f\"MyLineReg class: n_iter={self.n_iter}, learning_rate={self.learning_rate}\")\n",
        "\n",
        "    def __str__(self):\n",
        "        return f\"MyLineReg class: n_iter={self.n_iter}, learning_rate={self.learning_rate}\""
      ]
    }
  ]
}